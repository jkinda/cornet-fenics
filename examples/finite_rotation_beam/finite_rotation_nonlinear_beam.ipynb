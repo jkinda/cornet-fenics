{
 "cells": [
  {
   "cell_type": "markdown",
   "metadata": {},
   "source": [
    "# Nonlinear beam model in finite rotations\n",
    "\n",
    "In this numerical tour, we show how to formulate and solve a 3D nonlinear beam model in large displacements and  rotations. We however consider here slender structures for which local strains will remain small. We therefore adopt an infinitesimal strain linear elastic model. The main difficulty here is related to the fact that finite rotations cannot be described using a simple rotation vector as in the infinitesimal rotation case but must be handled through rotation matrices. \n",
    "\n",
    "This tour expands upon the work of Marco Morandini on [Finite rotation handling in Dolfin](https://home.aero.polimi.it/morandini/Downloads/DolfinFiniteRotations/html/index.html#). Contrary to this implementation which required in-depth implementations of conditional UFL expression and custom assembly procedure, we adopt a slightly different discretization strategy which alleviates the problem encountered in this previous implementation.\n",
    "\n",
    "The following animation illustrates how an initially horizontal beam, subject to a concentrated couple and horizontal transversal force, rolls up on itself several times. Note here that self-contact is not taken into account."
   ]
  },
  {
   "cell_type": "markdown",
   "metadata": {},
   "source": [
    "![](helical_beam.gif)"
   ]
  },
  {
   "cell_type": "markdown",
   "metadata": {},
   "source": [
    "## Handling finite rotations\n",
    "$\\newcommand{\\bA}{\\boldsymbol{A}}\n",
    "\\newcommand{\\bR}{\\boldsymbol{R}}\n",
    "\\newcommand{\\bG}{\\boldsymbol{G}}\n",
    "\\newcommand{\\bH}{\\boldsymbol{H}}\n",
    "\\newcommand{\\br}{\\boldsymbol{r}}\n",
    "\\newcommand{\\ba}{\\boldsymbol{a}}\n",
    "\\newcommand{\\bb}{\\boldsymbol{b}}\n",
    "\\newcommand{\\bu}{\\boldsymbol{u}}\n",
    "\\newcommand{\\bg}{\\boldsymbol{g}}\n",
    "\\newcommand{\\be}{\\boldsymbol{e}}\n",
    "\\newcommand{\\bN}{\\boldsymbol{N}}\n",
    "\\newcommand{\\bP}{\\boldsymbol{P}}\n",
    "\\newcommand{\\bM}{\\boldsymbol{M}}\n",
    "\\newcommand{\\bC}{\\boldsymbol{C}}\n",
    "\\newcommand{\\bR}{\\boldsymbol{R}}\n",
    "\\newcommand{\\bI}{\\boldsymbol{I}}\n",
    "\\newcommand{\\T}{^\\text{T}}\n",
    "\\newcommand{\\btheta}{\\boldsymbol{\\theta}}\n",
    "\\newcommand{\\bvartheta}{\\boldsymbol{\\vartheta}}\n",
    "\\newcommand{\\bXi}{\\boldsymbol{\\Xi}}\n",
    "\\newcommand{\\bTheta}{\\boldsymbol{\\Theta}}\n",
    "\\newcommand{\\bepsilon}{\\boldsymbol{\\epsilon}}\n",
    "\\newcommand{\\bchi}{\\boldsymbol{\\chi}}\n",
    "\\newcommand{\\bOmega}{\\boldsymbol{\\Omega}}\n",
    "\\newcommand{\\bomega}{\\boldsymbol{\\omega}}\n",
    "\\newcommand{\\axial}{\\operatorname{axial}}\n",
    "\\renewcommand{\\skew}{\\operatorname{skew}}\n",
    "\\newcommand{\\dx}{\\,\\text{dx}}$\n",
    "\n",
    "### Choosing a parametrization\n",
    "\n",
    "Handling finite rotations is a difficult point in a finite-element context as these should be described through rotation matrices $\\bR$ belonging to the special orthogonal group $SO(3)$ i.e. such that $\\bR\\T\\bR=\\bI$ and $\\det\\bR=1$. It is however not possible to easily interpolate elements of this group using standard finite-element techniques. Various approaches therefore attempt to parametrize elements of this group such as:\n",
    "\n",
    " * vectorial parametrizations\n",
    "\n",
    " * Euler-angle parametrizations\n",
    "\n",
    " * quaternion parametrizations\n",
    "\n",
    " * cosine direction parametrizations...\n",
    "\n",
    "In all of these methods, a rotation matrix is parametrized by a finite set of parameters: e.g. 3 for vectorial and Euler angle parametrizations, 4 for quaternion parametrizations, 9 for cosine direction, etc. Each of these methods will have some sort of singularity in the parametrization as the mapping can never be bijective. As a result, all methods possess some advantages and some drawbacks, either on the theoretical or computational point of view.\n",
    "\n",
    "In this tour, we make use of vectorial parametrizations which have the advantage of being based on a parameter, namely the rotation vector $\\btheta$, which behaves as a Cartesian 3D vector. We refer to [[BAU03]](#References) for an excellent and unified presentation of the vectorial parametrization. Implementation is described in the following document [A module for rotation parametrization](rotation_parametrization_description.ipynb)\n"
   ]
  },
  {
   "cell_type": "raw",
   "metadata": {
    "raw_mimetype": "text/restructuredtext"
   },
   "source": [
    "The corresponding module is available here :download:`rotation_parametrization.py`."
   ]
  },
  {
   "cell_type": "markdown",
   "metadata": {},
   "source": [
    "\n",
    "### A reminder on rotation matrices\n",
    "\n",
    "A rotation can be described by a unit rotation axis $\\bu$ and a rotation angle $\\varphi$, thus defining a rotation vector $\\btheta=\\varphi\\bu$. The link with the rotation matrix $\\bR$ is given by the well-known Euler-Rodrigues formula:\n",
    "\\begin{equation}\n",
    "\\bR = \\bI + \\dfrac{\\sin\\varphi}{\\varphi}\\bP + \\left(\\dfrac{\\sin(\\varphi/2)}{\\varphi/2}\\right)^2\\bP^2\n",
    "\\end{equation}\n",
    "with $\\bP = \\skew(\\btheta)$ where $\\skew$ defines the skew-symmetric matrix associated with the cross-product operation of a vector, that is:\n",
    "\\begin{align}\n",
    "\\skew(\\ba)\\bb &= \\ba \\times \\bb \\quad \\forall \\bb \\\\\n",
    "\\skew(\\ba) &= \\begin{bmatrix} 0 & -a_3 & a_2\\\\ a_3 & 0 & -a_1 \\\\ -a_2 & a_1 & 0 \\end{bmatrix}\n",
    "\\end{align}\n",
    "\n",
    "We also introduce $\\axial(\\bA)=\\ba$ the inverse operation associated to a skew-symmetric matrix $\\bA$ the corresponding vector $\\ba$ such that $\\bA=\\skew(\\ba)$. We also have that $\\axial(\\bR\\bA\\bR\\T)=\\bR\\ba$ when $\\bR$ is a rotation matrix.\n",
    "\n",
    "For any rotation matrix $\\bR$, we have $\\dot{\\overline{\\bR\\T\\bR}} = \\dot\\bR\\T\\bR +  \\bR\\T\\dot\\bR=0$ from which we deduce that $\\bTheta=\\bR\\T\\dot\\bR$ is skew-symmetric. We denote by $\\bvartheta = \\axial(\\Theta)$ the so-called spatial spin vector associated with the rotation matrix. The link between the spin vector and the time derivative of the rotation vector is given by the rotation curvature matrix $\\bH$:\n",
    "\\begin{equation}\n",
    "\\bvartheta = \\bH\\T\\dot\\btheta\n",
    "\\end{equation}\n",
    "\n",
    "### The small rotation case\n",
    "For small rotations i.e. $\\|\\btheta\\|=\\varphi \\ll 1$, we have $\\bR \\approx \\bI + \\bP$. As a result:\n",
    "\n",
    "\\begin{equation}\n",
    "\\dot\\bR = \\dot\\bP = \\bR\\T\\bTheta\n",
    "\\end{equation}\n",
    "\n",
    "we have, at first order, $\\bTheta \\approx \\dot\\bP$ and thus $\\bvartheta \\approx \\dot\\btheta$ and $\\bH\\approx\\bI$.\n",
    " \n",
    "\n",
    "## Nonlinear beam model formulation\n",
    "### Beam kinematics and strain measures\n",
    "\n",
    "Following the notations from [[MAS20]](#References), we consider a nonlinear Timoshenko beam model which is described by the position  $\\br_0(s)$ of the beam axis in the reference undeformed configuration $\\mathcal{L}_0$ where $s$ is the beam curvilinear coordinate. The reference configuration $\\mathcal{L}_0$ is also described by a triad of unit material vectors $\\bG_i(s)$ representing the beam axis $\\bG_1$ and the cross-section principal axis $\\bG_2,\\bG_3$. Note that $\\bG_1$ is equal to the unit tangent vector:\n",
    "\\begin{equation}\n",
    "\\bG_1(s)=\\dfrac{d\\br_0}{ds}(s)\n",
    "\\end{equation}\n",
    "The material vectors triad can be equivalently described by a rotation matrix $\\bR_0(s)$ which sends the initial cartesian frame $\\be_i$ to the material triad $\\bG_i(s)$ i.e. \n",
    "\\begin{equation}\n",
    "\\bR_0(s) = \\bG_i(s)\\otimes \\be_i\n",
    "\\end{equation}\n",
    "\n",
    "In a similar manner, we define the current position and material triad in the deformed configuration as follows:\n",
    "\\begin{align}\n",
    "\\br(s) &= \\br_0(s)+\\bu(s) \\\\\n",
    "\\bg_i(s) &= \\bR(s)\\bG_i(s)\n",
    "\\end{align}\n",
    "where $\\bu(s)$ is the beam axis displacement and $\\bR(s)$ the rotation matrix.\n",
    "\n",
    "As we restrict to a finite rotation/small strain setting, the beam strain measures are given by:\n",
    "* a translational strain measure:\n",
    "\\begin{equation}\n",
    "\\bepsilon =\\bR\\T(\\bu_{,s}+\\bG_1) - \\bG_1\n",
    "\\end{equation}\n",
    "* a rotational strain measure:\n",
    "\\begin{equation}\n",
    "\\bchi = \\axial( \\bR\\T\\bR_{,s}) \n",
    "\\end{equation}\n",
    "Their components along the material triad $\\bG_i$ respectively give the axial strain $\\epsilon = \\bepsilon\\T\\bG_1$, the shear strains $\\gamma_2 = \\bepsilon\\T\\bG_2$, $\\gamma_3 = \\bepsilon\\T\\bG_3$, the torsional strain $\\kappa = \\bchi\\T\\bG_1$ and the bending strains $\\chi_2 = \\bchi\\T\\bG_2$, $\\chi_3 = \\bchi\\T\\bG_3$.\n",
    "\n",
    "> Note that in the case of small rotations $\\bR \\approx \\bI + \\bP$ so that, at first order:\n",
    "\\begin{align}\n",
    "\\bepsilon \\approx \\bu_{,s}+\\bP\\T\\bG_1 = \\bu_{,s} - \\btheta \\times \\bG_1 =  \\begin{Bmatrix}  u_{1,s} \\\\ u_{2,s} - \\theta_3 \\\\ u_{3, s} + \\theta_2 \\end{Bmatrix}\n",
    "\\end{align}\n",
    "Similarly for the rotational measure, $\\bR\\T\\bR_{,s} \\approx \\bP_{,s}$ and thus\n",
    "\\begin{equation}\n",
    "\\bchi \\approx \\btheta_{,s}\n",
    "\\end{equation}\n",
    "as expected.\n",
    "\n",
    "### Stress measures and elastic constitutive relation\n",
    "\n",
    "The above strain measures define the corresponding stress measures $\\bN$ and $\\bM$ corresponding to axial forces and twist/bending moments. We adopt in the following a simple elastic constitutive law (without coupling) such that:\n",
    "\\begin{align}\n",
    "\\bN &= \\bC_N\\bepsilon = \\begin{bmatrix} ES & 0 & 0 \\\\ 0 & \\mu S_2^* & 0 \\\\ 0 & 0 & \\mu S_3^* \\end{bmatrix}\\bepsilon \\\\\n",
    "\\bM &= \\bC_M\\bchi = \\begin{bmatrix} \\mu J & 0 & 0 \\\\ 0 & EI_2 & 0 \\\\ 0 & 0 & EI_3 \\end{bmatrix}\\bchi \n",
    "\\end{align}\n",
    "where $S$ is the beam cross-section, $E,\\mu$ the Young and shear moduli, $S_2^*,S_3^*$ the reduced cross-sections accounting for shear reduction coefficients (see [this tour](https://comet-fenics.readthedocs.io/en/latest/demo/cross_section_analysis/cross_section_analysis.html)), $J$ the torsional intertia and $I_2,I_3$ the area moment of inertia.\n",
    "\n",
    "The beam hyperelastic energy is then given by:\n",
    "\\begin{equation}\n",
    "\\mathcal{E}_\\text{el} = \\dfrac{1}{2}\\int_{\\mathcal{L}_0} (\\bepsilon\\T\\bC_N\\bepsilon + \\bchi\\T\\bC_M\\bchi) \\dx\n",
    "\\end{equation}\n",
    "\n",
    "### Residual form\n",
    "\n",
    "The equilibrium solution is obtained through the resolution of the following non-linear equation:\n",
    "\\begin{equation}\n",
    "\\partial_{(\\bu,\\btheta)} \\mathcal{E}_\\text{el}(\\widehat{\\bu},\\widehat{\\btheta}) - W_\\text{ext}(\\widehat{\\bu},\\widehat{\\btheta})=0 \\quad \\forall (\\widehat{\\bu},\\widehat{\\btheta})\\in V\n",
    "\\end{equation}\n",
    "where $W_\\text{ext}$ is the work of external loads in the virtual fields $(\\widehat{\\bu},\\widehat{\\btheta})$. Under a prescribed distributed external force $\\mathcal{F}$ and moment $\\mathcal{M}$, it reads as:\n",
    "\\begin{equation}\n",
    "W_\\text{ext}(\\widehat{\\bu},\\widehat{\\btheta}) = \\int_{\\mathcal{L}} \\left(\\mathcal{F}\\cdot \\widehat{\\bu}+\\mathcal{M}\\cdot \\bH\\widehat{\\btheta}\\right) \\dx\n",
    "\\end{equation}\n",
    "\n",
    "Note that the resulting bilinear tangent form will not be symmetric due to the applied moment being non-conservative.\n",
    "\n",
    "## Incremental formulation\n",
    "\n",
    "As mentioned previously, any rotation parametrization will encounter singularity issues for large rotation angles (e.g. $\\pi$ or $2\\pi$ depending on the chosen parametrization). The previous formulation will therefore be unable to solve problems in which the solution experiences rotation angles of such amplitudes. As an alternative, it is possible to solve only, for a given load step, for the incremental displacement and rotation with respect to the known equilibrium from the previous converged load step. Positions and material triad orientations must therefore be updated at the end of every load step. With such an approach, singularity issues will only encountered if the incremental rotation is too large, which is not a strong requirement in practice.\n",
    "\n",
    "In this `incremental` approach, let us consider that $\\bu$ and $\\btheta$ now represent the displacement and rotation vector increments with respect to a known configuration at load step $n$. The sought configuration at load step $n+1$ is obtained from:\n",
    "\\begin{align}\n",
    "\\br_{n+1} &= \\br_n+\\bu \\\\\n",
    "\\bR_{n+1} &= \\bR(\\btheta)\\bR_n\n",
    "\\end{align}\n",
    "\n",
    "Regarding the strain measures, we have:\n",
    "\n",
    "\\begin{align}\n",
    "\\bepsilon_{n+1} &=\\bR_n\\T\\bR(\\btheta)\\T(\\bu_{,s}+\\br_{n,s}) - \\br_{n,s} \\\\\n",
    "\\bchi_{n+1} &= \\axial( \\bR_n\\T\\bR(\\btheta)\\T(\\bR(\\btheta)\\bR_n)_{,s}) \\\\\n",
    "&= \\axial( \\bR_n\\T\\bR_{n,s}) + \\axial(\\bR_n\\T\\bTheta_{,s}\\bR_n) \\\\\n",
    "&= \\bchi_n + \\bR_n\\T\\axial(\\bTheta_{,s}) \\\\\n",
    "&= \\bchi_n + \\bR_n\\T\\bH\\T\\btheta_{,s}\n",
    "\\end{align}\n",
    "\n",
    "In the following implementation, we will store the curvature strain and the rotation matrix of the previous time step as functions defined on a suitable function space (DG-0 for instance). As discussed in [[MAS20]](#References) such kind of choice results in a path-dependent solution due to the non-linear nature of the group of rotations. Several strategies can be considered to alleviate or suppress such lack of objectivity. In the following, we chose to ignore this issue, the effects of which diminish upon load step and mesh refinement."
   ]
  },
  {
   "cell_type": "markdown",
   "metadata": {},
   "source": [
    "## Implementation\n",
    "\n",
    "We first import the relevant module and functions. In particular, we import the `ExponentialMap` parametrization of rotations from the `rotation_parametrization.py` module. We then define the mesh of a rectilinear beam along the global X axis. We explicitly build the mesh using `meshio` data structures, write it to `.xdmf` format and load it back. Doing so we obtain a mesh of topology dimension 1 and geometrical dimension 3, instead of 1 if we were using the `IntervalMesh` built-in function. With this precaution the following implementation will be completely generic without making any a priori assumption on the geometry, for instance when defining tangent vectors etc. We also define the `left_end` and `right_end` boundary markers for applying loading and boundary conditions."
   ]
  },
  {
   "cell_type": "code",
   "execution_count": 1,
   "metadata": {},
   "outputs": [],
   "source": [
    "from dolfin import *\n",
    "import numpy as np\n",
    "import matplotlib.pyplot as plt\n",
    "from ufl import diag, Jacobian, shape\n",
    "from rotation_parametrization import ExponentialMap\n",
    "from IPython.display import clear_output\n",
    "import meshio\n",
    "\n",
    "# Mesh\n",
    "length = 10.0\n",
    "N = 40 # number of elements\n",
    "\n",
    "points = np.zeros((N+1, 3))\n",
    "points[:, 0] = np.linspace(0, length, N+1)\n",
    "cells = np.array([[i, i+1] for i in range(N)])\n",
    "meshio.write(\"mesh.xdmf\", meshio.Mesh(points, {\"line\": cells}))\n",
    "\n",
    "mesh = Mesh()\n",
    "with XDMFFile(\"mesh.xdmf\") as infile:\n",
    "    infile.read(mesh)\n",
    "    \n",
    "    \n",
    "def left_end(x, on_boundary):\n",
    "    return near(x[0], 0)\n",
    "def right_end(x, on_boundary):\n",
    "    return near(x[0], length)\n",
    "\n",
    "facets = MeshFunction(\"size_t\", mesh, 0)\n",
    "AutoSubDomain(left_end).mark(facets, 1)\n",
    "AutoSubDomain(right_end).mark(facets, 2)"
   ]
  },
  {
   "cell_type": "markdown",
   "metadata": {},
   "source": [
    "We now define the geometric and material properties of the beam cross-section as well as the loading corresponding to those investigated in [[IBR95]](#References). The loading consists of an externally applied concentrated bending moment $\\boldsymbol{m}(t)=-M_\\text{max}t\\be_y$ and concentrated load $\\boldsymbol{f}(t)=F_\\text{max} t \\be_y$ applied in 400 load steps. Finally, we specify the method resolution relying either on the `total` rotation vector or on the `incremental` rotation vector."
   ]
  },
  {
   "cell_type": "code",
   "execution_count": 2,
   "metadata": {},
   "outputs": [],
   "source": [
    "# Geometrical properties\n",
    "radius = Constant(0.2)\n",
    "S = pi * radius ** 2\n",
    "I = pi * radius ** 4 / 4\n",
    "\n",
    "# Stiffness moduli\n",
    "ES = Constant(1e4)\n",
    "GS = Constant(1e4)\n",
    "GS_2 = GS\n",
    "GS_3 = GS\n",
    "EI = Constant(1e2)\n",
    "EI_2 = EI\n",
    "EI_3 = EI\n",
    "GJ = Constant(1e2)\n",
    "\n",
    "\n",
    "# Loading parameters\n",
    "M_max = Constant(100 * 2* np.pi)\n",
    "F_max = Constant(50.)\n",
    "Tlist = np.linspace(0, 1.0, 501)\n",
    "load = Expression(\"t\", t=0, degree=0)\n",
    "\n",
    "\n",
    "# Resolution method {\"total\", \"incremental\"}\n",
    "method = \"incremental\""
   ]
  },
  {
   "cell_type": "markdown",
   "metadata": {},
   "source": [
    "We now define a mixed function space consisting of a $P_2$ displacement vector and $P_1$ rotation parameter vector. We will also need a DG-0 function space for keeping track of the previous rotation matrix as well as the previous curvature strain for implementing the `incremental` approach. We also keep track of the total displacement vector."
   ]
  },
  {
   "cell_type": "code",
   "execution_count": 3,
   "metadata": {},
   "outputs": [],
   "source": [
    "Ue = VectorElement(\"CG\", mesh.ufl_cell(), 2, dim=3)\n",
    "Te = VectorElement(\"CG\", mesh.ufl_cell(), 1, dim=3)\n",
    "V = FunctionSpace(mesh, MixedElement([Ue, Te]))\n",
    "\n",
    "v_ = TestFunction(V)\n",
    "u_, theta_ = split(v_)\n",
    "dv = TrialFunction(V)\n",
    "v = Function(V, name=\"Generalized displacement\")\n",
    "u, theta = split(v)\n",
    "\n",
    "VR = TensorFunctionSpace(mesh, \"DG\", 0, shape=(3, 3))\n",
    "R_old = Function(VR, name=\"Previous rotation matrix\")\n",
    "R_old.interpolate(Constant(((1, 0, 0), (0, 1, 0), (0, 0, 1))))\n",
    "\n",
    "V0 = VectorFunctionSpace(mesh, \"DG\", 0, dim=3)\n",
    "curv_old = Function(V0, name=\"Previous curvature strain\")\n",
    "\n",
    "\n",
    "Vu = V.sub(0).collapse()\n",
    "total_displ = Function(Vu, name=\"Previous total displacement\")"
   ]
  },
  {
   "cell_type": "markdown",
   "metadata": {},
   "source": [
    "We now define the rotation parametrization and the corresponding rotation and curvature matrices obtained from the vector rotation parameter $\\btheta$. We then use the mesh `Jacobian` (which we flatten to be of shape=(3,)) to compute the beam axis unit tangent vector `t0` in the reference configuration. We then define the `tgrad` function in order to compute the curvilinear derivative in the beam axis direction."
   ]
  },
  {
   "cell_type": "code",
   "execution_count": 4,
   "metadata": {},
   "outputs": [],
   "source": [
    "rot_param = ExponentialMap()\n",
    "R = rot_param.rotation_matrix(theta)\n",
    "H = rot_param.curvature_matrix(theta)\n",
    "\n",
    "Jac = Jacobian(mesh)\n",
    "gdim = mesh.geometry().dim()\n",
    "Jac = as_vector([Jac[i, 0] for i in range(gdim)])\n",
    "t0 = Jac/sqrt(dot(Jac, Jac))\n",
    "\n",
    "def tgrad(u):\n",
    "    return dot(grad(u), t0)"
   ]
  },
  {
   "cell_type": "markdown",
   "metadata": {},
   "source": [
    "The strain measures are now defined, depending on the chosen resolution method. We also define the constitutive matrices."
   ]
  },
  {
   "cell_type": "code",
   "execution_count": 5,
   "metadata": {},
   "outputs": [],
   "source": [
    "if method == \"total\":\n",
    "    defo = dot(R.T, t0 + tgrad(u)) - t0\n",
    "    curv = dot(H.T, tgrad(theta))\n",
    "elif method == \"incremental\":\n",
    "    R_new = R * R_old\n",
    "    defo = dot(R_new.T, t0 + tgrad(total_displ + u)) - t0\n",
    "    curv = curv_old + dot(R_old.T * H.T, tgrad(theta))\n",
    "    \n",
    "C_N = diag(as_vector([ES, GS_2, GS_3]))\n",
    "C_M = diag(as_vector([GJ, EI_2, EI_3]))"
   ]
  },
  {
   "cell_type": "markdown",
   "metadata": {},
   "source": [
    "We first define a uniform quadrature degree of 4 for integrating the various nonlinear forms.\n",
    "We are now in position to define the beam elastic energy as well as the nonlinear residual form expressing balance between the internal and external works. The corresponding tangent form is also derived for the Newton-Raphson solver."
   ]
  },
  {
   "cell_type": "code",
   "execution_count": 6,
   "metadata": {},
   "outputs": [],
   "source": [
    "metadata = {\"quadrature_degree\": 4}\n",
    "ds = Measure(\"ds\", domain=mesh, subdomain_data=facets, metadata=metadata)\n",
    "dx = Measure(\"dx\", domain=mesh, metadata=metadata)\n",
    "\n",
    "elastic_energy = 0.5 * (dot(defo, dot(C_N, defo)) + dot(curv, dot(C_M, curv))) * dx\n",
    "\n",
    "residual = derivative(elastic_energy, v, v_)\n",
    "residual += load * (M_max* dot(H, theta_)[1] - F_max * u_[1]) * ds(2)\n",
    "\n",
    "tangent_form = derivative(residual, v, dv)"
   ]
  },
  {
   "cell_type": "markdown",
   "metadata": {},
   "source": [
    "We finish by defining the clamped boundary conditions and the nonlinear newton solver."
   ]
  },
  {
   "cell_type": "code",
   "execution_count": 7,
   "metadata": {},
   "outputs": [],
   "source": [
    "bcs = DirichletBC(V, Constant((0,)*6), left_end)\n",
    "\n",
    "problem = NonlinearVariationalProblem(residual, v, bcs, tangent_form)\n",
    "solver = NonlinearVariationalSolver(problem)\n",
    "prm = solver.parameters[\"newton_solver\"]\n",
    "prm[\"linear_solver\"] = \"mumps\"\n",
    "tol = 1e-6\n",
    "prm[\"absolute_tolerance\"] = tol\n",
    "prm[\"relative_tolerance\"] = tol"
   ]
  },
  {
   "cell_type": "markdown",
   "metadata": {},
   "source": [
    "During the load stepping loop, total displacement and rotation vectors will be saved to `.xdmf` format every few increments. We also plot the trajectory of the extremal point in the $X-Z$ plane. Note that depending on the resolution method, the total displacement is given by $\\bu$ for the `total` method or by incrementing it with $\\bu$ for the `incremental` method. For the latter case, we also update the previous rotation matrix and curvature. Note also that for this approach, a good initial guess is the zero vector, rather than the previous increment. We therefore zero the solution vector with `v.vector().zero()` which will be used as an initial guess for the next increment."
   ]
  },
  {
   "cell_type": "code",
   "execution_count": 9,
   "metadata": {},
   "outputs": [
    {
     "data": {
      "image/png": "[encoded data removed]",
      "text/plain": [
       "<Figure size 432x288 with 1 Axes>"
      ]
     },
     "metadata": {
      "needs_background": "light"
     },
     "output_type": "display_data"
    }
   ],
   "source": [
    "uh = np.zeros((len(Tlist), 3))\n",
    "\n",
    "out_file = XDMFFile(\"helical_beam.xdmf\")\n",
    "out_file.parameters[\"functions_share_mesh\"] = True\n",
    "out_file.parameters[\"flush_output\"] = True\n",
    "for (i, t) in enumerate(Tlist[1:]):\n",
    "    load.t = t\n",
    "\n",
    "    solver.solve()\n",
    "    displ = v.sub(0, True)\n",
    "\n",
    "    if method == \"total\":\n",
    "        total_displ.vector()[:] = displ.vector()[:]\n",
    "    if method == \"incremental\":\n",
    "        total_displ.vector()[:] += displ.vector()[:]\n",
    "        R_old.assign(project(R * R_old, VR))\n",
    "        curv_old.assign(project(curv, V0))\n",
    "        v.vector().zero()\n",
    "\n",
    "    uh[i+1, :] = total_displ((length, 0, 0))\n",
    "\n",
    "    rotation_vector = v.sub(1, True)\n",
    "    rotation_vector.rename(\"Rotation vector\", \"\")\n",
    "\n",
    "    if i % 10 == 0:\n",
    "        out_file.write(rotation_vector, t)\n",
    "        out_file.write(total_displ, t)\n",
    "\n",
    "        clear_output(wait=True)\n",
    "        plt.plot(length+uh[:i+2, 0], uh[:i+2, 2], linewidth=1)\n",
    "        plt.xlim(-length/2, length)\n",
    "        plt.gca().set_aspect(\"equal\")\n",
    "        plt.show()\n",
    "        \n",
    "out_file.close()"
   ]
  },
  {
   "cell_type": "markdown",
   "metadata": {},
   "source": [
    "## References\n",
    "\n",
    "[BAU03] Bauchau, O. A., & Trainelli, L. (2003). The vectorial parameterization of rotation. Nonlinear dynamics, 32(1), 71-92.\n",
    "\n",
    "[IBR95] Ibrahimbegović, A., Frey, F., & Kožar, I. (1995). Computational aspects of vector‐like parametrization of three‐dimensional finite rotations. International Journal for Numerical Methods in Engineering, 38(21), 3653-3673.\n",
    "\n",
    "[MAS20] Magisano, D., Leonetti, L., Madeo, A., & Garcea, G. (2020). A large rotation finite element analysis of 3D beams by incremental rotation vector and exact strain measure with all the desirable features. Computer Methods in Applied Mechanics and Engineering, 361, 112811."
   ]
  }
 ],
 "metadata": {
  "celltoolbar": "Format de la Cellule Texte Brut",
  "kernelspec": {
   "display_name": "Python 3.8.10 64-bit",
   "language": "python",
   "name": "python3810jvsc74a57bd031f2aee4e71d21fbe5cf8b01ff0e069b9275f58929596ceb00d14d90e3e16cd6"
  },
  "language_info": {
   "codemirror_mode": {
    "name": "ipython",
    "version": 3
   },
   "file_extension": ".py",
   "mimetype": "text/x-python",
   "name": "python",
   "nbconvert_exporter": "python",
   "pygments_lexer": "ipython3",
   "version": "3.8.10"
  },
  "toc": {
   "base_numbering": 1,
   "nav_menu": {},
   "number_sections": false,
   "sideBar": true,
   "skip_h1_title": false,
   "title_cell": "Table of Contents",
   "title_sidebar": "Contents",
   "toc_cell": false,
   "toc_position": {},
   "toc_section_display": true,
   "toc_window_display": false
  }
 },
 "nbformat": 4,
 "nbformat_minor": 4
}
