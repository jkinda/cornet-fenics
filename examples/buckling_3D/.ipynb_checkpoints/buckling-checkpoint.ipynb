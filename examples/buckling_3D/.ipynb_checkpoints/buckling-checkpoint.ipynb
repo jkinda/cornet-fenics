{
 "cells": [
  {
   "cell_type": "markdown",
   "metadata": {},
   "source": [
    "\n",
    "# Linear Buckling Analysis of a Beam\n",
    "\n",
    "This demo has been written in collaboration with [Eder Medina (Harvard University)](mailto:e_medina@g.harvard.edu).\n",
    "\n",
    "In this numerical tour,  we will demonstrate how to compute the buckling modes of a fully three dimensional beam-like solid. \n",
    "The critical buckling loads and buckling modes are computed by solving a generalized non-hermitian eigenvalue problem using the <b> SLEPcEigensolver </b>. This example is closely related to the [dynamic modal analysis example] and the [Eulerian buckling of a beam](../beam_buckling/beam_buckling.ipynb) demo.\n",
    "\n",
    "## Geometrically Nonlinear Elasticity\n",
    "\n",
    "We begin with the general geometrically nonlinear strain-displacement relations. This allows us to consider the cases of problems under the assumption of small-strain/large displacement that are expected in typical buckling analysis.  \n",
    "$$\\varepsilon_{ij}  = \\frac{1}{2} (u_{i,j} + u_{j,i}) + \\frac{1}{2} u_{k,i}u_{k,j}$$\n",
    "Note that this can be rewritten in tensor format as\n",
    "$$ \\boldsymbol{\\varepsilon} = e(\\mathbf u) + q(\\mathbf u, \\mathbf u) $$\n",
    "where we isolate the linear $e(\\mathbf u)$ and nonlinear quadratic part $q(u,u)$.\n",
    "We will only consider the case of a geometric nonlinearity and as a result we choose a standard linear hookean relationship for the material material model which is given by  \n",
    "$$ \\boldsymbol{\\sigma} = 2 \\mu \\boldsymbol{\\varepsilon} + \\ell \\text{tr}(\\boldsymbol{\\varepsilon})\\mathbf{1} $$\n",
    "where $\\boldsymbol{\\sigma}$ is the Cauchy stress tensor, $\\mu$ is the shear modulus, and $\\ell$ is the Lame's first parameter (note that in some texts this is denoted by $\\lambda$ however here we reserve $\\lambda$ for the load parameter) and which can be written as a fourth order tensor $\\mathbf C$ such that\n",
    "$$ \\boldsymbol{\\sigma} = \\mathbf C:\\boldsymbol{\\varepsilon}$$ \n",
    "or in component notation $ \\sigma_{ij} = C_{ijkl}\\varepsilon_{kl}$\n",
    "\n",
    "We seek to find the underlying equilibrium displacement field as a function of a scalar loading parameter $\\mathbf u = \\mathbf u(\\lambda)$. The set of equilibrium equations can be found by finding the extrema of the total free energy. This corresponds to finding the function $\\mathbf u$ whose first variation must vanish.  \n",
    "\n"
   ]
  },
  {
   "cell_type": "markdown",
   "metadata": {},
   "source": [
    "Consider the total free energy functional \n",
    "$$ \\Pi(\\mathbf u) = \\int_V C_{ijkl} \\varepsilon_{ij}(\\mathbf u)\\varepsilon_{kl}(\\mathbf u) d\\Omega - \\int_{\\Gamma_N} \\mathbf t \\cdot \\mathbf u dS $$\n",
    "\n",
    "If we perform the first variation we find that\n",
    "$$ D_{\\delta u} \\Pi(\\mathbf u) = 0 \\implies \\int_V C_{ijkl} \\varepsilon_{ij} [e(\\mathbf{\\delta u} + q(\\mathbf u, \\mathbf{\\delta u})]_{kl} d\\Omega = \\int_{\\Gamma_N} \\mathbf t \\cdot \\mathbf{\\delta u}dS $$\n",
    "\n",
    "We assume a loading that is linearly proportional to a constant such that $\\mathbf t = \\lambda \\mathbf t_0$ and assume that our solution can be written as a series expansion $\\mathbf u = \\lambda \\mathbf{u_1} + \\lambda^2 \\mathbf{u_2} + ...$\n",
    "Then to first order by collecting terms of similar magnitude, beginning with terms of $\\mathcal O(\\lambda)$,  to find $\\mathbf u_1$ we must solve the following equation\n",
    "$$ \\int_V C_{ijkl} e(\\mathbf u_1)_{ij} e(\\mathbf{\\delta u})_{kl} = \\int \\mathbf t_0 \\cdot \\mathbf{\\delta u} dS $$\n",
    "The standard linear elasticity problem. \n",
    "\n",
    "Hence to first order we have that\n",
    "$$\\mathbf u \\sim \\lambda \\mathbf u_1$$"
   ]
  },
  {
   "cell_type": "markdown",
   "metadata": {},
   "source": [
    "## Defining the Geometry\n",
    "Here we will consider a fully three dimensional structure with length, $L = 1$, height $h = 0.01$, and width $ b = 0.03$. "
   ]
  },
  {
   "cell_type": "code",
   "execution_count": 2,
   "metadata": {},
   "outputs": [],
   "source": [
    "from dolfin import *\n",
    "import matplotlib.pyplot as plt\n",
    "import numpy as np\n",
    "\n",
    "L, h, b = 1, 0.01, 0.03\n",
    "Nx, Ny, Nz = 51, 5, 5\n",
    "\n",
    "mesh = BoxMesh(Point(0, 0, 0), Point(L, h, b), Nx, Ny, Nz)"
   ]
  },
  {
   "cell_type": "markdown",
   "metadata": {},
   "source": [
    "## Solving the leading order expansion"
   ]
  },
  {
   "cell_type": "code",
   "execution_count": 16,
   "metadata": {},
   "outputs": [],
   "source": [
    "E , nu = 1e3, 0.0\n",
    "\n",
    "mu = Constant(E/2*(1+nu))\n",
    "lmbda = Constant(E*nu/(1+nu)/(1-2*nu))\n",
    "\n",
    "def eps(v):\n",
    "    return sym(grad(v))\n",
    "def sigma(v):\n",
    "    return lmbda*tr(eps(v))*Identity(v.geometric_dimension())+2*mu*eps(v)\n",
    "\n",
    "# Compute the linearized unit preload \n",
    "N0 = 1\n",
    "T = Constant((-N0, 0, 0))\n",
    "V = VectorFunctionSpace(mesh, 'Lagrange', degree = 2)\n",
    "v = TestFunction(V)\n",
    "du = TrialFunction(V)\n",
    "\n",
    "# Two different ways to define how to impose boundary conditions\n",
    "def left(x,on_boundary):\n",
    "    return near(x[0], 0.)\n",
    "\n",
    "def right(x, on_boundary):\n",
    "    return near(x[0], L)\n",
    "\n",
    "boundary_markers = MeshFunction('size_t', mesh, mesh.topology().dim()-1)\n",
    "ds = Measure('ds', domain=mesh, subdomain_data=boundary_markers)\n",
    "AutoSubDomain(right).mark(boundary_markers, 1)\n",
    "\n",
    "# Clamped Boundary and Simply Supported Boundary Conditions\n",
    "bc = [DirichletBC(V, Constant((0, 0, 0)), left),\n",
    "      DirichletBC(V.sub(1), Constant(0), right),\n",
    "      DirichletBC(V.sub(2), Constant(0), right)]\n",
    "\n",
    "# Linear Elasticity Bilinear Form\n",
    "a = inner(sigma(du), eps(v))*dx\n",
    "\n",
    "# Forcing Function\n",
    "l = dot(T, v)*ds(1)"
   ]
  },
  {
   "cell_type": "markdown",
   "metadata": {},
   "source": [
    "We will reuse our stiffness matrix in the linear buckling computation and hence we supply PETSc matrix to the system assembler.\n"
   ]
  },
  {
   "cell_type": "code",
   "execution_count": 17,
   "metadata": {},
   "outputs": [],
   "source": [
    "K = PETScMatrix()\n",
    "assemble_system(a, l, bc, A_tensor = K)\n",
    "\n",
    "u = Function(V,name = \"Displacement\")\n",
    "solve(a == l, u, bc)\n",
    "\n",
    "# Output the trivial solution \n",
    "ffile = XDMFFile(\"output/solution.xdmf\")\n",
    "ffile.parameters[\"functions_share_mesh\"] = True\n",
    "ffile.parameters[\"flush_output\"] = True\n",
    "ffile.write(u, 0)"
   ]
  },
  {
   "cell_type": "markdown",
   "metadata": {},
   "source": [
    "## Finding  critical points along solution curve\n",
    "In order to find the buckling points we are looking for the point of $(\\mathbf u_c, \\lambda_c)$ where $\\lambda_c$ is the critical load and $\\mathbf u_c = \\lambda_c \\mathbf u_1$ that correspond to a vanishing stiffness along an arbitrary direction $\\mathbf U$. This will manifest itself as a generalized non-hermitian eigenvalue problem. \n",
    "\n",
    "We first derive the second variation with respect to some function $\\mathbf U$. \n",
    "$$ D_U (D_{\\delta u} \\Pi( \\mathbf u )) = 0$$\n",
    "\n",
    "$$ D_U (D_{\\delta u} \\Pi( \\mathbf u )) = \\int  (e(\\mathbf{U} )+ q(\\mathbf u_c, \\mathbf{U}) ) :\\mathbf{C}: (e(\\mathbf{\\delta u} ) + q(\\mathbf u_c, \\mathbf{\\delta u})) d \\Omega + \\int q(\\mathbf{\\delta u},\\mathbf{U}):\\mathbf{C}:(e(\\mathbf u_c) + q(\\mathbf u_c, \\mathbf u_c))\\ d\\Omega  $$\n",
    "\n",
    "Expanding this out we find that \n",
    "$$ \\int e(\\mathbf U) : C: e (\\delta u) + \\lambda_c q(\\mathbf{u_1}, \\mathbf U) : C  : e (\\mathbf{\\delta u}) + \\lambda^2 q(\\mathbf{u_1}, \\mathbf U) : C : q(\\mathbf u_1, \\mathbf{\\delta u}) + \\lambda_c q(\\mathbf{\\delta u}, \\mathbf U) : C : e(\\mathbf u_1) + \\lambda_c^2 q(\\mathbf{\\delta u}, \\mathbf U) : C : q(\\mathbf u_1, \\mathbf u_1) d\\Omega $$\n",
    "\n",
    "There is a reason why $\\mathbf U$ must be perpendicular to $\\mathbf{u_1}$ and hence two of the inner terms disappear  and then further drop the quadratic term we arrive at \n",
    "\n",
    "$$ \\int [e(\\mathbf U) : C: e (\\delta u) + \\lambda_c q(\\mathbf{\\delta u}, \\mathbf U) : C : e(\\mathbf u_1)]  d\\Omega $$ \n",
    "Further note that $\\sigma_1 =  C : e(\\mathbf u_1)$ then we have the generalized linear eigenvalue problem \n",
    "$$[\\mathbf K] = [\\mathbf{K_0}] + \\lambda_c [\\mathbf{K_g}]$$\n",
    "with $$\\mathbf K_0 = \\int e(\\mathbf U) : C : e(\\mathbf{\\delta u}) d\\Omega$$\n",
    "and the geometric stiffening can be thought of being generated from an initial prestress $\\sigma_1$\n",
    "$$\\mathbf{K_g} =  \\int_V \\sigma_1: q(\\mathbf{\\delta u}, \\mathbf U) d\\Omega$$\n"
   ]
  },
  {
   "cell_type": "code",
   "execution_count": 18,
   "metadata": {},
   "outputs": [],
   "source": [
    "#s00 = project(sigma(u), TensorFunctionSpace(mesh,\"DG\",0))\n",
    "\n",
    "#kgform = -inner(s00,(grad(du)).T*grad(v))*dx\n",
    "\n",
    "# Form for the Geometric Stiffness Tensor\n",
    "# We include the negative to follow SLEPc notation of KU = lambda KgU\n",
    "kgform = -inner(sigma(u), grad(du).T*grad(v))*dx\n",
    "\n",
    "KG = PETScMatrix()\n",
    "assemble(kgform, KG)\n",
    "\n",
    "# Zero out the rows to enforce boundary condition\n",
    "for bci in bc:\n",
    "    bci.zero(KG)\n"
   ]
  },
  {
   "cell_type": "markdown",
   "metadata": {},
   "source": [
    "The buckling points of interest are the smallest critical loads, i.e. the points corresponding to the smallest $\\lambda_c$ \n",
    "\n",
    "Output SLEPc's solver parameters to specify this requirement. "
   ]
  },
  {
   "cell_type": "code",
   "execution_count": 19,
   "metadata": {},
   "outputs": [
    {
     "name": "stdout",
     "output_type": "stream",
     "text": [
      "<Parameter set \"slepc_eigenvalue_solver\" containing 8 parameter(s) and parameter set(s)>\n",
      "\n",
      "  slepc_eigenvalue_solver  |    type    value    range  access  change\n",
      "  --------------------------------------------------------------------\n",
      "  maximum_iterations       |     int  <unset>  Not set       0       0\n",
      "  problem_type             |  string  <unset>  Not set       0       0\n",
      "  solver                   |  string  <unset>  Not set       0       0\n",
      "  spectral_shift           |  double  <unset>  Not set       0       0\n",
      "  spectral_transform       |  string  <unset>  Not set       0       0\n",
      "  spectrum                 |  string  <unset>  Not set       0       0\n",
      "  tolerance                |  double  <unset>  Not set       0       0\n",
      "  verbose                  |    bool  <unset>  Not set       0       0\n"
     ]
    }
   ],
   "source": [
    "# What Solver Configurations exist?\n",
    "eigensolver = SLEPcEigenSolver(K, KG)\n",
    "print(eigensolver.parameters.str(True))"
   ]
  },
  {
   "cell_type": "code",
   "execution_count": 20,
   "metadata": {},
   "outputs": [
    {
     "name": "stdout",
     "output_type": "stream",
     "text": [
      "Computing 3 first eigenvalues...\n",
      "Number of converged eigenvalues: 4\n",
      "3D FE critical buckling load:\n",
      "Mode 1: -0.042583435025919\n",
      "Mode 2: 0.04258611801868776\n",
      "Mode 3: -0.10877074642723661\n",
      "Mode 4: 0.10878820591909817\n",
      "Beam theory critical buckling load:\n",
      "Mode 1: 0.16825685873856805\n",
      "Mode 2: 0.4940486113943937\n",
      "Mode 3: 0.990838109804547\n"
     ]
    }
   ],
   "source": [
    "eigensolver.parameters['solver'] = \"krylov-schur\"\n",
    "eigensolver.parameters['tolerance'] = 1.e-12\n",
    "eigensolver.parameters['spectral_transform']  = 'shift-and-invert'\n",
    "eigensolver.parameters['spectral_shift'] = 1e-2\n",
    "\n",
    "# Request the smallest 3 eigenvalues\n",
    "N_eig = 3   \n",
    "print(\"Computing {} first eigenvalues...\".format(N_eig))\n",
    "eigensolver.solve(N_eig)\n",
    "print(\"Number of converged eigenvalues:\", eigensolver.get_number_converged())\n",
    "\n",
    "eigenmode = Function(V, name=\"Eigenvector\")\n",
    "\n",
    "print(\"3D FE critical buckling load:\")\n",
    "for i in range(eigensolver.get_number_converged()):\n",
    "    # Extract eigenpair\n",
    "    r, c, rx, cx = eigensolver.get_eigenpair(i)\n",
    "    print(\"Mode {}:\".format(i+1), r)\n",
    "\n",
    "    # Initialize function and assign eigenvector\n",
    "    eigenmode.vector()[:] = rx\n",
    "\n",
    "    ffile.write(eigenmode, i)\n",
    "\n",
    "# Analytical beam theory solution\n",
    "# F_cr,n = alpha_n^2*EI/L^2\n",
    "# where alpha_n are solutions to tan(alpha) = alpha\n",
    "alpha = np.array([1.4303, 2.4509, 3.4709] + [(n+1/2) for n in range(4, 10)])*pi\n",
    "I = b*h**3/12\n",
    "S = b*h\n",
    "print(\"Beam theory critical buckling load:\")\n",
    "for n in range(3):\n",
    "    print(\"Mode {}:\".format(n+1), alpha[n]**2*E*I/S/L**2)\n"
   ]
  },
  {
   "cell_type": "markdown",
   "metadata": {},
   "source": [
    "> Note that the analysis above is not limited to problems subject to neumann boundary conditions. \n",
    "One can equivalenty compute the prestress resulting from a displacement control simulation and the critical buckling load will correspond to the critical buckling displacement of the structure."
   ]
  },
  {
   "cell_type": "code",
   "execution_count": null,
   "metadata": {},
   "outputs": [],
   "source": []
  },
  {
   "cell_type": "code",
   "execution_count": null,
   "metadata": {},
   "outputs": [],
   "source": []
  }
 ],
 "metadata": {
  "kernelspec": {
   "display_name": "Python 3",
   "language": "python",
   "name": "python3"
  },
  "language_info": {
   "codemirror_mode": {
    "name": "ipython",
    "version": 3
   },
   "file_extension": ".py",
   "mimetype": "text/x-python",
   "name": "python",
   "nbconvert_exporter": "python",
   "pygments_lexer": "ipython3",
   "version": "3.6.9"
  }
 },
 "nbformat": 4,
 "nbformat_minor": 2
}
