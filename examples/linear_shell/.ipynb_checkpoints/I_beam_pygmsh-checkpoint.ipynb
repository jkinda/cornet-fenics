{
 "cells": [
  {
   "cell_type": "code",
   "execution_count": 22,
   "metadata": {},
   "outputs": [
    {
     "name": "stdout",
     "output_type": "stream",
     "text": [
      "Set 'end-section' is '1'.\n",
      "Set 'mid-section' is '2'.\n",
      "<class 'numpy.ndarray'>\n"
     ]
    },
    {
     "ename": "TypeError",
     "evalue": "list indices must be integers or slices, not str",
     "output_type": "error",
     "traceback": [
      "\u001b[0;31m---------------------------------------------------------------------------\u001b[0m",
      "\u001b[0;31mTypeError\u001b[0m                                 Traceback (most recent call last)",
      "\u001b[0;32m<ipython-input-22-18b3691327e7>\u001b[0m in \u001b[0;36m<module>\u001b[0;34m\u001b[0m\n\u001b[1;32m     65\u001b[0m \u001b[0mcell_data\u001b[0m \u001b[0;34m=\u001b[0m \u001b[0mnew_mesh\u001b[0m\u001b[0;34m.\u001b[0m\u001b[0mcell_data\u001b[0m\u001b[0;34m[\u001b[0m\u001b[0;34m\"gmsh:physical\"\u001b[0m\u001b[0;34m]\u001b[0m\u001b[0;34m[\u001b[0m\u001b[0;36m0\u001b[0m\u001b[0;34m]\u001b[0m\u001b[0;34m\u001b[0m\u001b[0;34m\u001b[0m\u001b[0m\n\u001b[1;32m     66\u001b[0m \u001b[0mprint\u001b[0m\u001b[0;34m(\u001b[0m\u001b[0mtype\u001b[0m\u001b[0;34m(\u001b[0m\u001b[0mcell_data\u001b[0m\u001b[0;34m)\u001b[0m\u001b[0;34m)\u001b[0m\u001b[0;34m\u001b[0m\u001b[0;34m\u001b[0m\u001b[0m\n\u001b[0;32m---> 67\u001b[0;31m \u001b[0mprint\u001b[0m\u001b[0;34m(\u001b[0m\u001b[0mnew_mesh\u001b[0m\u001b[0;34m.\u001b[0m\u001b[0mcells\u001b[0m\u001b[0;34m[\u001b[0m\u001b[0;34m\"line\"\u001b[0m\u001b[0;34m]\u001b[0m\u001b[0;34m[\u001b[0m\u001b[0mnew_mesh\u001b[0m\u001b[0;34m.\u001b[0m\u001b[0mcell_data\u001b[0m\u001b[0;34m[\u001b[0m\u001b[0;34m\"gmsh:physical\"\u001b[0m\u001b[0;34m]\u001b[0m\u001b[0;34m[\u001b[0m\u001b[0;36m0\u001b[0m\u001b[0;34m]\u001b[0m\u001b[0;34m==\u001b[0m\u001b[0;36m1\u001b[0m\u001b[0;34m]\u001b[0m\u001b[0;34m)\u001b[0m\u001b[0;34m\u001b[0m\u001b[0;34m\u001b[0m\u001b[0m\n\u001b[0m\u001b[1;32m     68\u001b[0m \u001b[0;31m# from J. Dokken website\u001b[0m\u001b[0;34m\u001b[0m\u001b[0;34m\u001b[0m\u001b[0;34m\u001b[0m\u001b[0m\n\u001b[1;32m     69\u001b[0m \u001b[0;32mdef\u001b[0m \u001b[0mcreate_mesh\u001b[0m\u001b[0;34m(\u001b[0m\u001b[0mmesh\u001b[0m\u001b[0;34m,\u001b[0m \u001b[0mcell_type\u001b[0m\u001b[0;34m)\u001b[0m\u001b[0;34m:\u001b[0m\u001b[0;34m\u001b[0m\u001b[0;34m\u001b[0m\u001b[0m\n",
      "\u001b[0;31mTypeError\u001b[0m: list indices must be integers or slices, not str"
     ]
    }
   ],
   "source": [
    "import pygmsh\n",
    "import numpy as np\n",
    "import meshio\n",
    "\n",
    "# I-beam profile \n",
    "wb = 0.2 # bottom flange width\n",
    "wt = 0.3 # top flange width\n",
    "h = 0.3 # height\n",
    "\n",
    "lcar = 0.1 # characteristic mesh size density (will not be used)\n",
    "\n",
    "def sets_to_cell_data(mesh):\n",
    "    sets = mesh.cell_sets\n",
    "    for block in mesh.cells:\n",
    "        mesh.cell_data.update({block.type: np.zeros((len(block.data), ), dtype=np.int)})\n",
    "    for (i, (set, cells)) in enumerate(sets.items()):\n",
    "        for (j, cell) in enumerate(cells):\n",
    "            if cell is not None:\n",
    "                mesh.cell_data[mesh.cells[j].type][cell] = i+1\n",
    "        print(\"Set '{}' is '{}'.\".format(set, i+1))\n",
    "        \n",
    "with pygmsh.geo.Geometry() as geom:\n",
    "    bottom_points = [geom.add_point((0, -wb/2, -h/2), lcar),\n",
    "                     geom.add_point((0, 0, -h/2), lcar),\n",
    "                     geom.add_point((0, wb/2, -h/2), lcar)]\n",
    "    top_points = [geom.add_point((0, -wt/2, h/2), lcar),\n",
    "                  geom.add_point((0, 0, h/2), lcar),\n",
    "                  geom.add_point((0, wt/2, h/2), lcar)]\n",
    "    bottom_flange = [geom.add_line(bottom_points[0], bottom_points[1]),\n",
    "                     geom.add_line(bottom_points[1], bottom_points[2])]\n",
    "    web = [geom.add_line(bottom_points[1], top_points[1])]\n",
    "    top_flange = [geom.add_line(top_points[0], top_points[1]),\n",
    "                  geom.add_line(top_points[1], top_points[2])]\n",
    "    mid_section = bottom_flange + web + top_flange\n",
    "    \n",
    "    end_bottom_flange = []\n",
    "    end_top_flange = []\n",
    "    end_web = []\n",
    "    for ini, end in zip([bottom_flange, web, top_flange],\n",
    "                        [end_bottom_flange, end_web, end_top_flange]):\n",
    "        for l in ini:\n",
    "            #l_end, _, _ = geom.revolve(l, [0., 1., 1.],\n",
    "            #             [0., 5, -5], np.pi/4, num_layers=20)\n",
    "            l_end, _, _ = geom.extrude(l, [5, 0, 0], num_layers=20)\n",
    "            end.append(l_end)\n",
    "    end_section = end_bottom_flange + end_web + end_top_flange\n",
    "    \n",
    "    for f in bottom_flange+top_flange+end_bottom_flange+end_top_flange:\n",
    "        geom.set_transfinite_curve(f, 6, \"Progression\", 1)\n",
    "    for w in web + end_web:\n",
    "        geom.set_transfinite_curve(w, 10, \"Progression\", 1)\n",
    "    geom.add_physical(end_section, label=\"end-section\")\n",
    "    geom.add_physical(mid_section, label=\"mid-section\")\n",
    "    \n",
    "    #geom.save_geometry(\"pygmsh_geo.geo_unrolled\")\n",
    "    mesh = geom.generate_mesh()\n",
    "    #mesh.remove_lower_dimensional_cells()\n",
    "    sets_to_cell_data(mesh)\n",
    "    cells = np.vstack([cell.data for cell in mesh.cells if cell.type==\"line\"])\n",
    "    #cell_data = {\"name_to_read\": [cell_sets[\"mid-section\"][0]]}\n",
    "    new_mesh = meshio.Mesh(points=mesh.points, cells={\"line\": cells},\n",
    "                               cell_data={\"gmsh:physical\": [mesh.cell_data[\"line\"]]})\n",
    "    meshio.write(\"pygmsh.vtk\", new_mesh)\n",
    "\n",
    "cell_data = new_mesh.cell_data[\"gmsh:physical\"][0]\n",
    "print(type(cell_data))\n",
    "print(new_mesh.cells[\"line\"][new_mesh.cell_data[\"gmsh:physical\"][0]==1])\n",
    "# from J. Dokken website\n",
    "def create_mesh(mesh, cell_type):\n",
    "    cells = np.vstack([cell.data for cell in mesh.cells if cell.type==cell_type])\n",
    "    data = np.hstack([mesh.cell_data_dict[\"gmsh:physical\"][key]\n",
    "                           for key in mesh.cell_data_dict[\"gmsh:physical\"].keys() if key==cell_type])\n",
    "    mesh = meshio.Mesh(points=mesh.points, cells={cell_type: cells})\n",
    "    return mesh\n",
    "cell_data = new_mesh.cell_data[\"gmsh:physical\"][0]==1\n",
    "print(cell_data)\n",
    "new_mesh.points[new_mesh.cells[0].data[cell_data].flatten(), :]\n",
    "# filename = \"pygmsh_I_beam.xdmf\"\n",
    "# shell_mesh = create_mesh(mesh, \"triangle\")\n",
    "#line_mesh = create_mesh(mesh, \"line\")\n",
    "# meshio.write(filename, shell_mesh)\n",
    "# meshio.write(filename.replace(\".\",\"_facet_region.\"), line_mesh)"
   ]
  },
  {
   "cell_type": "code",
   "execution_count": null,
   "metadata": {},
   "outputs": [],
   "source": [
    "geo_mesh = meshio.read(\"pygmsh_geo.msh\")\n",
    "print(geo_mesh.cell_data, geo_mesh.cells[0].data)\n",
    "geo_mesh.points[geo_mesh.cells[0].data.flatten(), :]"
   ]
  },
  {
   "cell_type": "code",
   "execution_count": null,
   "metadata": {},
   "outputs": [],
   "source": [
    "with pygmsh.geo.Geometry() as geom:\n",
    "    p = geom.add_rectangle(0.0, 1.0, 0.0, 1.0, 0.0, mesh_size=0.1)\n",
    "    geom.add_physical(p.surface, label=\"100\")\n",
    "    for i in range(4): geom.add_physical(p.lines[i], label=f\"{1000 + i}\")\n",
    "    #geom.add_raw_code(\"Mesh.SaveElementTagType = 2;\")\n",
    "    mesh = geom.generate_mesh()\n",
    "    print(\"mesh.cell_data_dict\", mesh.cell_data_dict)\n",
    "    print(\"mesh.cell_sets\", mesh.cell_sets)\n",
    "    print(\"mesh.cell_sets_dict\", mesh.cell_sets_dict)"
   ]
  },
  {
   "cell_type": "code",
   "execution_count": null,
   "metadata": {},
   "outputs": [],
   "source": [
    "mesh.sets_to_int_data"
   ]
  },
  {
   "cell_type": "code",
   "execution_count": null,
   "metadata": {},
   "outputs": [],
   "source": [
    "mesh.cell_data"
   ]
  },
  {
   "cell_type": "code",
   "execution_count": null,
   "metadata": {},
   "outputs": [],
   "source": [
    "with pygmsh.occ.Geometry() as geom:\n",
    "    geom.characteristic_length_min = 0.1\n",
    "    geom.characteristic_length_max = 0.1\n",
    "\n",
    "    ball = geom.add_ball([0.0, 0.0, 0.0], 1.0)\n",
    "    box1 = geom.add_box([0, 0, 0], [1, 1, 1])\n",
    "    box2 = geom.add_box([-2, -0.5, -0.5], [1.5, 0.8, 0.8])\n",
    "\n",
    "    cut = geom.boolean_difference(ball, box1)\n",
    "    frag = geom.boolean_fragments(cut, box2)\n",
    "\n",
    "    # The three fragments are:\n",
    "    # frag[0]: The ball with two cuts\n",
    "    # frag[1]: The intersection of the stick and the ball\n",
    "    # frag[2]: The stick without the ball\n",
    "    geom.add_physical([frag[0], frag[1]], label=\"Sphere_cut_by_box_1\")\n",
    "    geom.add_physical(frag[2], label=\"Box_2_cut_by_sphere\")\n",
    "\n",
    "    mesh = geom.generate_mesh(algorithm=6)\n",
    "\n",
    "\n",
    "mesh.remove_lower_dimensional_cells()\n",
    "mesh.sets_to_int_data()\n",
    "\n",
    "mesh.write(\"out.vtk\")"
   ]
  },
  {
   "cell_type": "code",
   "execution_count": null,
   "metadata": {},
   "outputs": [],
   "source": [
    "mesh.cell_data_dict"
   ]
  },
  {
   "cell_type": "code",
   "execution_count": null,
   "metadata": {},
   "outputs": [],
   "source": []
  }
 ],
 "metadata": {
  "kernelspec": {
   "display_name": "Python 3",
   "language": "python",
   "name": "python3"
  },
  "language_info": {
   "codemirror_mode": {
    "name": "ipython",
    "version": 3
   },
   "file_extension": ".py",
   "mimetype": "text/x-python",
   "name": "python",
   "nbconvert_exporter": "python",
   "pygments_lexer": "ipython3",
   "version": "3.8.5"
  }
 },
 "nbformat": 4,
 "nbformat_minor": 4
}
