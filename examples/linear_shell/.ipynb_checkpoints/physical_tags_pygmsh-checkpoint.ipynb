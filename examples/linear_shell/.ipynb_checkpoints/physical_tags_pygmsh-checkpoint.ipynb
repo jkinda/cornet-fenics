{
 "cells": [
  {
   "cell_type": "code",
   "execution_count": 23,
   "metadata": {},
   "outputs": [
    {
     "name": "stdout",
     "output_type": "stream",
     "text": [
      "<pygmsh Dummy object, ID 3>\n",
      "<pygmsh Dummy object, ID 7>\n"
     ]
    },
    {
     "ename": "AssertionError",
     "evalue": "Some points are not at x=2.0",
     "output_type": "error",
     "traceback": [
      "\u001b[0;31m---------------------------------------------------------------------------\u001b[0m",
      "\u001b[0;31mAssertionError\u001b[0m                            Traceback (most recent call last)",
      "\u001b[0;32m<ipython-input-23-78caebbcb6f0>\u001b[0m in \u001b[0;36m<module>\u001b[0;34m\u001b[0m\n\u001b[1;32m     40\u001b[0m \u001b[0mboundary_cells\u001b[0m \u001b[0;34m=\u001b[0m \u001b[0mmesh\u001b[0m\u001b[0;34m.\u001b[0m\u001b[0mcell_sets\u001b[0m\u001b[0;34m[\u001b[0m\u001b[0;34m\"right\"\u001b[0m\u001b[0;34m]\u001b[0m\u001b[0;34m[\u001b[0m\u001b[0;36m0\u001b[0m\u001b[0;34m]\u001b[0m\u001b[0;34m\u001b[0m\u001b[0;34m\u001b[0m\u001b[0m\n\u001b[1;32m     41\u001b[0m \u001b[0mboundary_points\u001b[0m \u001b[0;34m=\u001b[0m \u001b[0mmesh\u001b[0m\u001b[0;34m.\u001b[0m\u001b[0mcells\u001b[0m\u001b[0;34m[\u001b[0m\u001b[0;36m0\u001b[0m\u001b[0;34m]\u001b[0m\u001b[0;34m.\u001b[0m\u001b[0mdata\u001b[0m\u001b[0;34m[\u001b[0m\u001b[0mboundary_cells\u001b[0m\u001b[0;34m,\u001b[0m \u001b[0;34m:\u001b[0m\u001b[0;34m]\u001b[0m\u001b[0;34m.\u001b[0m\u001b[0mflatten\u001b[0m\u001b[0;34m(\u001b[0m\u001b[0;34m)\u001b[0m\u001b[0;34m\u001b[0m\u001b[0;34m\u001b[0m\u001b[0m\n\u001b[0;32m---> 42\u001b[0;31m \u001b[0;32massert\u001b[0m \u001b[0mnp\u001b[0m\u001b[0;34m.\u001b[0m\u001b[0mallclose\u001b[0m\u001b[0;34m(\u001b[0m\u001b[0mmesh\u001b[0m\u001b[0;34m.\u001b[0m\u001b[0mpoints\u001b[0m\u001b[0;34m[\u001b[0m\u001b[0mboundary_points\u001b[0m\u001b[0;34m,\u001b[0m \u001b[0;36m0\u001b[0m\u001b[0;34m]\u001b[0m\u001b[0;34m,\u001b[0m \u001b[0;36m2.0\u001b[0m\u001b[0;34m)\u001b[0m\u001b[0;34m,\u001b[0m \u001b[0;34m\"Some points are not at x=2.0\"\u001b[0m\u001b[0;34m\u001b[0m\u001b[0;34m\u001b[0m\u001b[0m\n\u001b[0m",
      "\u001b[0;31mAssertionError\u001b[0m: Some points are not at x=2.0"
     ]
    }
   ],
   "source": [
    "import pygmsh\n",
    "import numpy as np\n",
    "import meshio\n",
    "\n",
    "lcar = 0.5 \n",
    "length = 2.0\n",
    "\n",
    "def sets_to_cell_data(mesh):\n",
    "    sets = mesh.cell_sets\n",
    "    for block in mesh.cells:\n",
    "        mesh.cell_data.update({block.type: np.zeros((len(block.data), ), dtype=np.int)})\n",
    "    for (i, (set, cells)) in enumerate(sets.items()):\n",
    "        for (j, cell) in enumerate(cells):\n",
    "            if cell is not None:\n",
    "                mesh.cell_data[mesh.cells[j].type][cell] = i+1\n",
    "        print(\"Set '{}' is '{}'.\".format(set, i+1))\n",
    "        \n",
    "with pygmsh.geo.Geometry() as geom:\n",
    "    left_points = [geom.add_point((0, 0, 0), lcar),\n",
    "                     geom.add_point((0, 1, 0), lcar),\n",
    "                     geom.add_point((0, 1, 1), lcar)]\n",
    "    left_line = [geom.add_line(left_points[0], left_points[1]),\n",
    "                     geom.add_line(left_points[1], left_points[2])]\n",
    "    \n",
    "    right_line = []\n",
    "    for (i, l) in enumerate(left_line):\n",
    "        l_end, _, _ = geom.extrude(l, [length, 0, 0], num_layers=2)\n",
    "        right_line.append(l_end)\n",
    "    \n",
    "    geom.add_physical(right_line, label=\"right\")\n",
    "    geom.add_physical(left_line, label=\"left\")\n",
    "    \n",
    "    mesh = geom.generate_mesh()\n",
    "\n",
    "boundary_cells = mesh.cell_sets[\"left\"][0]\n",
    "boundary_points = mesh.cells[0].data[boundary_cells, :].flatten()\n",
    "assert np.allclose(mesh.points[boundary_points, 0], 0.0), \"Some points are not at x=0.0\"\n",
    "\n",
    "boundary_cells = mesh.cell_sets[\"right\"][0]\n",
    "boundary_points = mesh.cells[0].data[boundary_cells, :].flatten()\n",
    "assert np.allclose(mesh.points[boundary_points, 0], length), \"Some points are not at x=2.0\""
   ]
  },
  {
   "cell_type": "code",
   "execution_count": null,
   "metadata": {},
   "outputs": [],
   "source": [
    "np.isclose()"
   ]
  },
  {
   "cell_type": "code",
   "execution_count": null,
   "metadata": {},
   "outputs": [],
   "source": [
    "with pygmsh.geo.Geometry() as geom:\n",
    "    p = geom.add_rectangle(0.0, 1.0, 0.0, 1.0, 0.0, mesh_size=0.1)\n",
    "    geom.add_physical(p.surface, label=\"100\")\n",
    "    for i in range(4): geom.add_physical(p.lines[i], label=f\"{1000 + i}\")\n",
    "    #geom.add_raw_code(\"Mesh.SaveElementTagType = 2;\")\n",
    "    mesh = geom.generate_mesh()\n",
    "    print(\"mesh.cell_data_dict\", mesh.cell_data_dict)\n",
    "    print(\"mesh.cell_sets\", mesh.cell_sets)\n",
    "    print(\"mesh.cell_sets_dict\", mesh.cell_sets_dict)"
   ]
  },
  {
   "cell_type": "code",
   "execution_count": null,
   "metadata": {},
   "outputs": [],
   "source": [
    "mesh.sets_to_int_data"
   ]
  },
  {
   "cell_type": "code",
   "execution_count": null,
   "metadata": {},
   "outputs": [],
   "source": [
    "mesh.cell_data"
   ]
  },
  {
   "cell_type": "code",
   "execution_count": null,
   "metadata": {},
   "outputs": [],
   "source": [
    "with pygmsh.occ.Geometry() as geom:\n",
    "    geom.characteristic_length_min = 0.1\n",
    "    geom.characteristic_length_max = 0.1\n",
    "\n",
    "    ball = geom.add_ball([0.0, 0.0, 0.0], 1.0)\n",
    "    box1 = geom.add_box([0, 0, 0], [1, 1, 1])\n",
    "    box2 = geom.add_box([-2, -0.5, -0.5], [1.5, 0.8, 0.8])\n",
    "\n",
    "    cut = geom.boolean_difference(ball, box1)\n",
    "    frag = geom.boolean_fragments(cut, box2)\n",
    "\n",
    "    # The three fragments are:\n",
    "    # frag[0]: The ball with two cuts\n",
    "    # frag[1]: The intersection of the stick and the ball\n",
    "    # frag[2]: The stick without the ball\n",
    "    geom.add_physical([frag[0], frag[1]], label=\"Sphere_cut_by_box_1\")\n",
    "    geom.add_physical(frag[2], label=\"Box_2_cut_by_sphere\")\n",
    "\n",
    "    mesh = geom.generate_mesh(algorithm=6)\n",
    "\n",
    "\n",
    "mesh.remove_lower_dimensional_cells()\n",
    "mesh.sets_to_int_data()\n",
    "\n",
    "mesh.write(\"out.vtk\")"
   ]
  },
  {
   "cell_type": "code",
   "execution_count": null,
   "metadata": {},
   "outputs": [],
   "source": [
    "mesh.cell_data_dict"
   ]
  },
  {
   "cell_type": "code",
   "execution_count": null,
   "metadata": {},
   "outputs": [],
   "source": []
  }
 ],
 "metadata": {
  "kernelspec": {
   "display_name": "Python 3",
   "language": "python",
   "name": "python3"
  },
  "language_info": {
   "codemirror_mode": {
    "name": "ipython",
    "version": 3
   },
   "file_extension": ".py",
   "mimetype": "text/x-python",
   "name": "python",
   "nbconvert_exporter": "python",
   "pygments_lexer": "ipython3",
   "version": "3.8.5"
  }
 },
 "nbformat": 4,
 "nbformat_minor": 4
}
