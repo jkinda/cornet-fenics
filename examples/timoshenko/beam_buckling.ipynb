{
 "cells": [
  {
   "cell_type": "markdown",
   "metadata": {},
   "source": [
    "# Eulerian buckling of a beam\n",
    "\n",
    "In this numerical tour, we will compute the critical buckling load of a straight beam under normal compression, the classical Euler buckling problem. Usually, buckling is an important mode of failure for slender beams so that a standard Euler-Bernoulli beam model is sufficient. However, since FEniCS does not support Hermite elements ensuring $C^1$-formulation for the transverse deflection, implementing such models is not straightforward and requires using advanced DG formulations for instance, see the `fenics-shell` [implemntation of the Love-Kirchhoff plate model](http://fenics-shells.readthedocs.io/en/latest/demo/kirchhoff-love-clamped/demo_kirchhoff-love-clamped.py.html) or the [FEniCS documented demo on the biharmonic equation](http://fenics.readthedocs.io/projects/dolfin/en/2017.2.0/demos/biharmonic/python/demo_biharmonic.py.html).\n",
    "\n",
    "As a result, we will simply formulate the buckling problem using a Timoshenko beam model.\n",
    "\n",
    "## Timoshenko beam model formulation\n",
    "\n",
    "We first formulate the stiffness bilinear form of the Timoshenko model given by:\n",
    "\\begin{equation}\n",
    "k((w,\\theta),(\\widehat{w},\\widehat{\\theta}))= \\int_0^L EI \\dfrac{d\\theta}{dx}\\dfrac{d\\widehat{\\theta}}{dx} dx +  \\int_0^L \\kappa \\mu S \\left(\\dfrac{dw}{dx}-\\theta\\right)\\left(\\dfrac{d\\widehat{w}}{dx}-\\widehat{\\theta}\\right) dx\n",
    "\\end{equation}\n",
    "where $I=bh^3/12$ is the bending inertia for a rectangular beam of width $b$ and height $h$, $S=bh$ the cross-section area, $E$ the material Young modulus and $\\mu$ the shear modulus and $\\kappa=5/6$ the shear correction factor. We will use a $P^2/P^1$ interpolation for the mixed field $(w,\\theta)$. "
   ]
  },
  {
   "cell_type": "raw",
   "metadata": {
    "raw_mimetype": "text/restructuredtext"
   },
   "source": [
    "For issues related to shear-locking and reduced integration formulation, we refer to the :ref:`ReissnerMindlinQuads` tour."
   ]
  },
  {
   "cell_type": "code",
   "execution_count": 1,
   "metadata": {},
   "outputs": [],
   "source": [
    "from dolfin import *\n",
    "import numpy as np\n",
    "import matplotlib.pyplot as plt\n",
    "%matplotlib notebook\n",
    "\n",
    "L = 10.\n",
    "thick = Constant(0.03)\n",
    "width = Constant(0.01)\n",
    "E = Constant(70e3)\n",
    "nu = Constant(0.)\n",
    "\n",
    "EI = E*width*thick**3/12\n",
    "GS = E/2/(1+nu)*thick*width\n",
    "kappa = Constant(5./6.)\n",
    "\n",
    "\n",
    "N = 100\n",
    "mesh = IntervalMesh(N, 0, L) \n",
    "\n",
    "U = FiniteElement(\"CG\", mesh.ufl_cell(), 2)\n",
    "T = FiniteElement(\"CG\", mesh.ufl_cell(), 1)\n",
    "V = FunctionSpace(mesh, U*T)\n",
    "\n",
    "u_ = TestFunction(V)\n",
    "du = TrialFunction(V)\n",
    "(w_, theta_) = split(u_)\n",
    "(dw, dtheta) = split(du)\n",
    "\n",
    "\n",
    "k_form = EI*inner(grad(theta_), grad(dtheta))*dx + \\\n",
    "         kappa*GS*dot(grad(w_)[0]-theta_, grad(dw)[0]-dtheta)*dx\n",
    "l_form = Constant(1.)*u_[0]*dx"
   ]
  },
  {
   "cell_type": "raw",
   "metadata": {
    "raw_mimetype": "text/restructuredtext"
   },
   "source": [
    "As in the :ref:`ModalAnalysis` tour, a dummy linear form :code:`l_form` is used to call the :code:`assemble_system` function which retains the symmetric structure of the associated matrix when imposing boundary conditions. Here, we will consider clamped conditions on the left side :math:`x=0` and simple supports on the right side :math:`x=L`."
   ]
  },
  {
   "cell_type": "code",
   "execution_count": 2,
   "metadata": {},
   "outputs": [
    {
     "name": "stdout",
     "output_type": "stream",
     "text": [
      "Calling FFC just-in-time (JIT) compiler, this may take some time.\n",
      "Calling FFC just-in-time (JIT) compiler, this may take some time.\n"
     ]
    },
    {
     "name": "stderr",
     "output_type": "stream",
     "text": [
      "/usr/lib/python3/dist-packages/ffc/uflacs/analysis/dependencies.py:61: FutureWarning: Using a non-tuple sequence for multidimensional indexing is deprecated; use `arr[tuple(seq)]` instead of `arr[seq]`. In the future this will be interpreted as an array index, `arr[np.array(seq)]`, which will result either in an error or a different result.\n",
      "  active[targets] = 1\n"
     ]
    },
    {
     "name": "stdout",
     "output_type": "stream",
     "text": [
      "Calling FFC just-in-time (JIT) compiler, this may take some time.\n"
     ]
    },
    {
     "name": "stderr",
     "output_type": "stream",
     "text": [
      "/usr/lib/python3/dist-packages/ffc/uflacs/analysis/dependencies.py:61: FutureWarning: Using a non-tuple sequence for multidimensional indexing is deprecated; use `arr[tuple(seq)]` instead of `arr[seq]`. In the future this will be interpreted as an array index, `arr[np.array(seq)]`, which will result either in an error or a different result.\n",
      "  active[targets] = 1\n"
     ]
    },
    {
     "data": {
      "text/plain": [
       "(<dolfin.cpp.la.PETScMatrix at 0x7fdbf38b0990>,\n",
       " <dolfin.cpp.la.Vector at 0x7fdbf38b00f8>)"
      ]
     },
     "execution_count": 2,
     "metadata": {},
     "output_type": "execute_result"
    }
   ],
   "source": [
    "def both_ends(x, on_boundary):\n",
    "    return on_boundary\n",
    "def left_end(x, on_boundary):\n",
    "    return near(x[0], 0) and on_boundary\n",
    "\n",
    "bc = [DirichletBC(V.sub(0), Constant(0.), both_ends),\n",
    "      DirichletBC(V.sub(1), Constant(0.), left_end)]\n",
    "\n",
    "K = PETScMatrix()\n",
    "assemble_system(k_form, l_form, bc, A_tensor=K)"
   ]
  },
  {
   "cell_type": "markdown",
   "metadata": {},
   "source": [
    "## Construction of the geometric stiffness matrix\n",
    "\n",
    "The buckling analysis amounts to solving an eigenvalue problem of the form:\n",
    "\n",
    "\\begin{equation}\n",
    "(\\mathbf{K}+\\lambda\\mathbf{K_G})\\mathbf{U} = 0\n",
    "\\end{equation}\n",
    "\n",
    "in which the geometric stiffness matrix $\\mathbf{K_G}$ depends (linearly) on a prestressed state, the amplitude of which is represented by $\\lambda$. The eigenvalue/eigenvector $(\\lambda,\\mathbf{U})$ solving the previous generalized eigenproblem respectively correspond to the critical buckling load and its associated buckling mode. For a beam in which the prestressed state correspond to a purely compression state of intensity $N_0>0$, the geometric stiffness bilinear form is given by:\n",
    "\n",
    "\\begin{equation}\n",
    "k_G((w,\\theta),(\\widehat{w},\\widehat{\\theta}))= -\\int_0^L N_0 \\dfrac{dw}{dx}\\dfrac{d\\widehat{w}}{dx} dx\n",
    "\\end{equation}\n",
    "\n",
    "which is assembled below into the `KG` `PETScMatrix` (up to the negative sign)."
   ]
  },
  {
   "cell_type": "code",
   "execution_count": 3,
   "metadata": {},
   "outputs": [
    {
     "name": "stdout",
     "output_type": "stream",
     "text": [
      "Calling FFC just-in-time (JIT) compiler, this may take some time.\n"
     ]
    },
    {
     "name": "stderr",
     "output_type": "stream",
     "text": [
      "/usr/lib/python3/dist-packages/ffc/uflacs/analysis/dependencies.py:61: FutureWarning: Using a non-tuple sequence for multidimensional indexing is deprecated; use `arr[tuple(seq)]` instead of `arr[seq]`. In the future this will be interpreted as an array index, `arr[np.array(seq)]`, which will result either in an error or a different result.\n",
      "  active[targets] = 1\n"
     ]
    }
   ],
   "source": [
    "N0 = Constant(1e-3)\n",
    "kg_form = N0*dot(grad(w_), grad(dw))*dx\n",
    "KG = PETScMatrix()\n",
    "assemble(kg_form, tensor=KG)\n",
    "for bci in bc:\n",
    "    bci.zero(KG)"
   ]
  },
  {
   "cell_type": "markdown",
   "metadata": {},
   "source": [
    "Note that we made use of the `zero` method of `DirichletBC` making the rows of the matrix associated with the boundary condition zero. If we used instead the `apply` method, the rows would have been replaced with a row of zeros with a 1 on the diagonal (as for the stiffness matrix `K`). As a result, we would have obtained an eigenvalue equal to 1 for each row with a boundary condition which can make more troublesome the computation of eigenvalues if they happen to be close to 1. Replacing with a full row of zeros in `KG` results in infinite eigenvalues for each boundary condition which is more suitable when looking for the lowest eigenvalues of the buckling problem.\n",
    "\n",
    "##  Setting and solving the eigenvalue problem\n",
    "\n",
    "Up to the negative sign cancelling from the previous definition of `KG`, we now formulate the generalized eigenvalue problem $\\mathbf{KU}=-\\lambda\\mathbf{K_G U}$ using the `SLEPcEigenSolver`. The only difference from what has already been discussed in the dynamic modal analysis numerical tour is that buckling eigenvalue problem may be more difficult to solve than modal analysis in certain cases, it is therefore beneficial to prescribe a value of the spectral shift close to the critical buckling load."
   ]
  },
  {
   "cell_type": "code",
   "execution_count": 5,
   "metadata": {},
   "outputs": [
    {
     "name": "stdout",
     "output_type": "stream",
     "text": [
      "Computing 3 first eigenvalues...\n",
      "Critical buckling loads:\n",
      "Exact:    0.31800  FE:    0.31805  Rel. gap 0.01%%\n",
      "Exact:    0.93995  FE:    0.94033  Rel. gap 0.04%%\n",
      "Exact:    1.87267  FE:    1.87415  Rel. gap 0.08%%\n"
     ]
    },
    {
     "name": "stderr",
     "output_type": "stream",
     "text": [
      "/home/bleyerj/.local/lib/python3.6/site-packages/matplotlib/font_manager.py:1241: UserWarning: findfont: Font family ['serif'] not found. Falling back to DejaVu Sans.\n",
      "  (prop.get_family(), self.defaultFamily[fontext]))\n"
     ]
    },
    {
     "data": {
      "image/png": "[encoded data removed]",
      "text/plain": [
       "<Figure size 432x288 with 1 Axes>"
      ]
     },
     "metadata": {
      "needs_background": "light"
     },
     "output_type": "display_data"
    }
   ],
   "source": [
    "eigensolver = SLEPcEigenSolver(K, KG)\n",
    "eigensolver.parameters['problem_type'] = 'gen_hermitian'\n",
    "eigensolver.parameters['spectral_transform'] = 'shift-and-invert'\n",
    "eigensolver.parameters['spectral_shift'] = 1e-3\n",
    "eigensolver.parameters['tolerance'] = 1e-12\n",
    "\n",
    "N_eig = 3   # number of eigenvalues\n",
    "print(\"Computing %i first eigenvalues...\" % N_eig)\n",
    "eigensolver.solve(N_eig)\n",
    "\n",
    "# Exact solution computation\n",
    "from scipy.optimize import root\n",
    "from math import tan\n",
    "falpha = lambda x: tan(x)-x\n",
    "alpha = lambda n: root(falpha, 0.99*(2*n+1)*pi/2.)['x'][0]\n",
    "\n",
    "plt.figure()\n",
    "# Extraction\n",
    "print(\"Critical buckling loads:\")\n",
    "for i in range(N_eig):\n",
    "    # Extract eigenpair\n",
    "    r, c, rx, cx = eigensolver.get_eigenpair(i)\n",
    "    \n",
    "    critical_load_an = alpha(i+1)**2*float(EI/N0)/L**2\n",
    "    print(\"Exact: {0:>10.5f}  FE: {1:>10.5f}  Rel. gap {2:1.2f}%%\".format(\n",
    "           critical_load_an, r, 100*(r/critical_load_an-1)))\n",
    "    \n",
    "    # Initialize function and assign eigenvector (renormalize by stiffness matrix)\n",
    "    eigenmode = Function(V,name=\"Eigenvector \"+str(i))\n",
    "    eigenmode.vector()[:] = rx/np.max(np.abs(rx.get_local()))\n",
    "\n",
    "    plot(eigenmode.sub(0), label=\"Buckling mode \"+str(i+1))\n",
    "\n",
    "plt.ylim((-1.2, 1.2))\n",
    "plt.legend()\n",
    "plt.show()"
   ]
  },
  {
   "cell_type": "markdown",
   "metadata": {},
   "source": [
    "Above, we compared the computed FE critical loads with the known analytical value for the Euler-Bernoulli beam model and the considered boundary conditions given by:\n",
    "\n",
    "\\begin{equation}\n",
    "F_n = (\\alpha_n)^2 \\dfrac{EI}{L^2} \\quad \\text{with }\\alpha_n \\text{ solutions to } \\tan(\\alpha) = \\alpha\n",
    "\\end{equation}\n",
    "\n",
    "In particular, it can be observed that the displacement-based FE solution overestimates the exact buckling load and that the error increases with the order of the buckling load."
   ]
  }
 ],
 "metadata": {
  "celltoolbar": "Raw Cell Format",
  "kernelspec": {
   "display_name": "Python 2",
   "language": "python",
   "name": "python2"
  },
  "language_info": {
   "codemirror_mode": {
    "name": "ipython",
    "version": 3
   },
   "file_extension": ".py",
   "mimetype": "text/x-python",
   "name": "python",
   "nbconvert_exporter": "python",
   "pygments_lexer": "ipython3",
   "version": "3.6.7"
  }
 },
 "nbformat": 4,
 "nbformat_minor": 2
}
